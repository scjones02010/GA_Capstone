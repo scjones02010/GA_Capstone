{
 "cells": [
  {
   "cell_type": "markdown",
   "metadata": {},
   "source": [
    "Imports needed for modeling and analysis"
   ]
  },
  {
   "cell_type": "code",
   "execution_count": 155,
   "metadata": {},
   "outputs": [],
   "source": [
    "import pandas as pd\n",
    "from sklearn.linear_model import LogisticRegressionCV, RidgeClassifierCV\n",
    "from sklearn.model_selection import train_test_split\n",
    "from sklearn.naive_bayes import GaussianNB\n",
    "from sklearn.neighbors import KNeighborsClassifier\n",
    "from sklearn.tree import DecisionTreeClassifier\n",
    "from sklearn.ensemble import RandomForestClassifier\n",
    "from sklearn.preprocessing import StandardScaler, MultiLabelBinarizer\n",
    "from sklearn.metrics import  confusion_matrix,classification_report\n",
    "import seaborn as sns\n",
    "import matplotlib.pyplot as plt\n",
    "import numpy as np"
   ]
  },
  {
   "cell_type": "markdown",
   "metadata": {},
   "source": [
    "Imports dataframes and checks for correction"
   ]
  },
  {
   "cell_type": "code",
   "execution_count": 14,
   "metadata": {},
   "outputs": [],
   "source": [
    "df_no_feature_engineering=pd.read_csv('../Data/movies_data_for_modeling.csv',index_col='Unnamed: 0')\n",
    "df_with_feature_engineering=pd.read_csv('../Data/movies_df_with_new_features.csv',index_col='Unnamed: 0')"
   ]
  },
  {
   "cell_type": "code",
   "execution_count": 16,
   "metadata": {},
   "outputs": [
    {
     "name": "stdout",
     "output_type": "stream",
     "text": [
      "(44686, 131)\n"
     ]
    },
    {
     "data": {
      "text/html": [
       "<div>\n",
       "<style scoped>\n",
       "    .dataframe tbody tr th:only-of-type {\n",
       "        vertical-align: middle;\n",
       "    }\n",
       "\n",
       "    .dataframe tbody tr th {\n",
       "        vertical-align: top;\n",
       "    }\n",
       "\n",
       "    .dataframe thead th {\n",
       "        text-align: right;\n",
       "    }\n",
       "</style>\n",
       "<table border=\"1\" class=\"dataframe\">\n",
       "  <thead>\n",
       "    <tr style=\"text-align: right;\">\n",
       "      <th></th>\n",
       "      <th>id</th>\n",
       "      <th>popularity</th>\n",
       "      <th>runtime</th>\n",
       "      <th>video</th>\n",
       "      <th>vote_average</th>\n",
       "      <th>vote_count</th>\n",
       "      <th>release_year</th>\n",
       "      <th>release_month</th>\n",
       "      <th>release_day</th>\n",
       "      <th>has_homepage</th>\n",
       "      <th>...</th>\n",
       "      <th>total_movie_crew</th>\n",
       "      <th>number_of_A_list_crew_members_per_movie</th>\n",
       "      <th>number_of_B_list_crew_members_per_movie</th>\n",
       "      <th>number_of_C_list_crew_members_per_movie</th>\n",
       "      <th>number_of_D_list_crew_members_per_movie</th>\n",
       "      <th>total_cast_per_movie</th>\n",
       "      <th>number_of_A_list_cast_members_per_movie</th>\n",
       "      <th>number_of_B_list_cast_members_per_movie</th>\n",
       "      <th>number_of_C_list_cast_members_per_movie</th>\n",
       "      <th>number_of_D_list_cast_members_per_movie</th>\n",
       "    </tr>\n",
       "  </thead>\n",
       "  <tbody>\n",
       "    <tr>\n",
       "      <td>0</td>\n",
       "      <td>862</td>\n",
       "      <td>21.946943</td>\n",
       "      <td>81.0</td>\n",
       "      <td>0</td>\n",
       "      <td>7.7</td>\n",
       "      <td>5415.0</td>\n",
       "      <td>1995</td>\n",
       "      <td>10</td>\n",
       "      <td>30</td>\n",
       "      <td>1</td>\n",
       "      <td>...</td>\n",
       "      <td>106.0</td>\n",
       "      <td>22.0</td>\n",
       "      <td>28.0</td>\n",
       "      <td>39.0</td>\n",
       "      <td>24.0</td>\n",
       "      <td>13.0</td>\n",
       "      <td>9.0</td>\n",
       "      <td>2.0</td>\n",
       "      <td>2.0</td>\n",
       "      <td>0.0</td>\n",
       "    </tr>\n",
       "    <tr>\n",
       "      <td>1</td>\n",
       "      <td>8844</td>\n",
       "      <td>17.015539</td>\n",
       "      <td>104.0</td>\n",
       "      <td>0</td>\n",
       "      <td>6.9</td>\n",
       "      <td>2413.0</td>\n",
       "      <td>1995</td>\n",
       "      <td>12</td>\n",
       "      <td>15</td>\n",
       "      <td>0</td>\n",
       "      <td>...</td>\n",
       "      <td>16.0</td>\n",
       "      <td>10.0</td>\n",
       "      <td>5.0</td>\n",
       "      <td>3.0</td>\n",
       "      <td>0.0</td>\n",
       "      <td>26.0</td>\n",
       "      <td>6.0</td>\n",
       "      <td>6.0</td>\n",
       "      <td>5.0</td>\n",
       "      <td>9.0</td>\n",
       "    </tr>\n",
       "    <tr>\n",
       "      <td>2</td>\n",
       "      <td>15602</td>\n",
       "      <td>11.712900</td>\n",
       "      <td>101.0</td>\n",
       "      <td>0</td>\n",
       "      <td>6.5</td>\n",
       "      <td>92.0</td>\n",
       "      <td>1995</td>\n",
       "      <td>12</td>\n",
       "      <td>22</td>\n",
       "      <td>0</td>\n",
       "      <td>...</td>\n",
       "      <td>4.0</td>\n",
       "      <td>3.0</td>\n",
       "      <td>2.0</td>\n",
       "      <td>0.0</td>\n",
       "      <td>0.0</td>\n",
       "      <td>7.0</td>\n",
       "      <td>7.0</td>\n",
       "      <td>0.0</td>\n",
       "      <td>0.0</td>\n",
       "      <td>0.0</td>\n",
       "    </tr>\n",
       "    <tr>\n",
       "      <td>3</td>\n",
       "      <td>31357</td>\n",
       "      <td>3.859495</td>\n",
       "      <td>127.0</td>\n",
       "      <td>0</td>\n",
       "      <td>6.1</td>\n",
       "      <td>34.0</td>\n",
       "      <td>1995</td>\n",
       "      <td>12</td>\n",
       "      <td>22</td>\n",
       "      <td>0</td>\n",
       "      <td>...</td>\n",
       "      <td>10.0</td>\n",
       "      <td>3.0</td>\n",
       "      <td>5.0</td>\n",
       "      <td>3.0</td>\n",
       "      <td>2.0</td>\n",
       "      <td>10.0</td>\n",
       "      <td>7.0</td>\n",
       "      <td>3.0</td>\n",
       "      <td>1.0</td>\n",
       "      <td>0.0</td>\n",
       "    </tr>\n",
       "    <tr>\n",
       "      <td>4</td>\n",
       "      <td>11862</td>\n",
       "      <td>8.387519</td>\n",
       "      <td>106.0</td>\n",
       "      <td>0</td>\n",
       "      <td>5.7</td>\n",
       "      <td>173.0</td>\n",
       "      <td>1995</td>\n",
       "      <td>2</td>\n",
       "      <td>10</td>\n",
       "      <td>0</td>\n",
       "      <td>...</td>\n",
       "      <td>7.0</td>\n",
       "      <td>6.0</td>\n",
       "      <td>1.0</td>\n",
       "      <td>0.0</td>\n",
       "      <td>0.0</td>\n",
       "      <td>12.0</td>\n",
       "      <td>9.0</td>\n",
       "      <td>3.0</td>\n",
       "      <td>0.0</td>\n",
       "      <td>0.0</td>\n",
       "    </tr>\n",
       "  </tbody>\n",
       "</table>\n",
       "<p>5 rows × 131 columns</p>\n",
       "</div>"
      ],
      "text/plain": [
       "      id  popularity  runtime  video  vote_average  vote_count  release_year  \\\n",
       "0    862   21.946943     81.0      0           7.7      5415.0          1995   \n",
       "1   8844   17.015539    104.0      0           6.9      2413.0          1995   \n",
       "2  15602   11.712900    101.0      0           6.5        92.0          1995   \n",
       "3  31357    3.859495    127.0      0           6.1        34.0          1995   \n",
       "4  11862    8.387519    106.0      0           5.7       173.0          1995   \n",
       "\n",
       "   release_month  release_day  has_homepage  ...  total_movie_crew  \\\n",
       "0             10           30             1  ...             106.0   \n",
       "1             12           15             0  ...              16.0   \n",
       "2             12           22             0  ...               4.0   \n",
       "3             12           22             0  ...              10.0   \n",
       "4              2           10             0  ...               7.0   \n",
       "\n",
       "   number_of_A_list_crew_members_per_movie  \\\n",
       "0                                     22.0   \n",
       "1                                     10.0   \n",
       "2                                      3.0   \n",
       "3                                      3.0   \n",
       "4                                      6.0   \n",
       "\n",
       "   number_of_B_list_crew_members_per_movie  \\\n",
       "0                                     28.0   \n",
       "1                                      5.0   \n",
       "2                                      2.0   \n",
       "3                                      5.0   \n",
       "4                                      1.0   \n",
       "\n",
       "   number_of_C_list_crew_members_per_movie  \\\n",
       "0                                     39.0   \n",
       "1                                      3.0   \n",
       "2                                      0.0   \n",
       "3                                      3.0   \n",
       "4                                      0.0   \n",
       "\n",
       "   number_of_D_list_crew_members_per_movie  total_cast_per_movie  \\\n",
       "0                                     24.0                  13.0   \n",
       "1                                      0.0                  26.0   \n",
       "2                                      0.0                   7.0   \n",
       "3                                      2.0                  10.0   \n",
       "4                                      0.0                  12.0   \n",
       "\n",
       "   number_of_A_list_cast_members_per_movie  \\\n",
       "0                                      9.0   \n",
       "1                                      6.0   \n",
       "2                                      7.0   \n",
       "3                                      7.0   \n",
       "4                                      9.0   \n",
       "\n",
       "   number_of_B_list_cast_members_per_movie  \\\n",
       "0                                      2.0   \n",
       "1                                      6.0   \n",
       "2                                      0.0   \n",
       "3                                      3.0   \n",
       "4                                      3.0   \n",
       "\n",
       "   number_of_C_list_cast_members_per_movie  \\\n",
       "0                                      2.0   \n",
       "1                                      5.0   \n",
       "2                                      0.0   \n",
       "3                                      1.0   \n",
       "4                                      0.0   \n",
       "\n",
       "   number_of_D_list_cast_members_per_movie  \n",
       "0                                      0.0  \n",
       "1                                      9.0  \n",
       "2                                      0.0  \n",
       "3                                      0.0  \n",
       "4                                      0.0  \n",
       "\n",
       "[5 rows x 131 columns]"
      ]
     },
     "execution_count": 16,
     "metadata": {},
     "output_type": "execute_result"
    }
   ],
   "source": [
    "print(df_no_feature_engineering.shape)\n",
    "df_no_feature_engineering.head()"
   ]
  },
  {
   "cell_type": "code",
   "execution_count": 17,
   "metadata": {},
   "outputs": [
    {
     "name": "stdout",
     "output_type": "stream",
     "text": [
      "(44686, 218)\n"
     ]
    },
    {
     "data": {
      "text/html": [
       "<div>\n",
       "<style scoped>\n",
       "    .dataframe tbody tr th:only-of-type {\n",
       "        vertical-align: middle;\n",
       "    }\n",
       "\n",
       "    .dataframe tbody tr th {\n",
       "        vertical-align: top;\n",
       "    }\n",
       "\n",
       "    .dataframe thead th {\n",
       "        text-align: right;\n",
       "    }\n",
       "</style>\n",
       "<table border=\"1\" class=\"dataframe\">\n",
       "  <thead>\n",
       "    <tr style=\"text-align: right;\">\n",
       "      <th></th>\n",
       "      <th>vote_average</th>\n",
       "      <th>vote_count</th>\n",
       "      <th>release_year</th>\n",
       "      <th>release_month</th>\n",
       "      <th>release_day</th>\n",
       "      <th>overview_negative_sentiment_score</th>\n",
       "      <th>overview_neutral_sentiment_score</th>\n",
       "      <th>overview_positive_sentiment_score</th>\n",
       "      <th>overview_compound_sentiment_score</th>\n",
       "      <th>overview_length</th>\n",
       "      <th>...</th>\n",
       "      <th>produced_in_france</th>\n",
       "      <th>produced_in_usa</th>\n",
       "      <th>produced_in_japan</th>\n",
       "      <th>produced_in_sweden</th>\n",
       "      <th>produced_in_italy</th>\n",
       "      <th>produced_in_germany</th>\n",
       "      <th>video</th>\n",
       "      <th>title_change</th>\n",
       "      <th>id</th>\n",
       "      <th>popularity</th>\n",
       "    </tr>\n",
       "  </thead>\n",
       "  <tbody>\n",
       "    <tr>\n",
       "      <td>0</td>\n",
       "      <td>7.7</td>\n",
       "      <td>5415.0</td>\n",
       "      <td>1995</td>\n",
       "      <td>10</td>\n",
       "      <td>30</td>\n",
       "      <td>0.048</td>\n",
       "      <td>0.886</td>\n",
       "      <td>0.066</td>\n",
       "      <td>0.2500</td>\n",
       "      <td>303.0</td>\n",
       "      <td>...</td>\n",
       "      <td>0</td>\n",
       "      <td>1</td>\n",
       "      <td>0</td>\n",
       "      <td>0</td>\n",
       "      <td>0</td>\n",
       "      <td>0</td>\n",
       "      <td>0</td>\n",
       "      <td>0</td>\n",
       "      <td>862</td>\n",
       "      <td>21.946943</td>\n",
       "    </tr>\n",
       "    <tr>\n",
       "      <td>1</td>\n",
       "      <td>6.9</td>\n",
       "      <td>2413.0</td>\n",
       "      <td>1995</td>\n",
       "      <td>12</td>\n",
       "      <td>15</td>\n",
       "      <td>0.161</td>\n",
       "      <td>0.702</td>\n",
       "      <td>0.137</td>\n",
       "      <td>-0.4588</td>\n",
       "      <td>395.0</td>\n",
       "      <td>...</td>\n",
       "      <td>0</td>\n",
       "      <td>1</td>\n",
       "      <td>0</td>\n",
       "      <td>0</td>\n",
       "      <td>0</td>\n",
       "      <td>0</td>\n",
       "      <td>0</td>\n",
       "      <td>0</td>\n",
       "      <td>8844</td>\n",
       "      <td>17.015539</td>\n",
       "    </tr>\n",
       "    <tr>\n",
       "      <td>2</td>\n",
       "      <td>6.5</td>\n",
       "      <td>92.0</td>\n",
       "      <td>1995</td>\n",
       "      <td>12</td>\n",
       "      <td>22</td>\n",
       "      <td>0.168</td>\n",
       "      <td>0.791</td>\n",
       "      <td>0.041</td>\n",
       "      <td>-0.7645</td>\n",
       "      <td>327.0</td>\n",
       "      <td>...</td>\n",
       "      <td>0</td>\n",
       "      <td>1</td>\n",
       "      <td>0</td>\n",
       "      <td>0</td>\n",
       "      <td>0</td>\n",
       "      <td>0</td>\n",
       "      <td>0</td>\n",
       "      <td>0</td>\n",
       "      <td>15602</td>\n",
       "      <td>11.712900</td>\n",
       "    </tr>\n",
       "    <tr>\n",
       "      <td>3</td>\n",
       "      <td>6.1</td>\n",
       "      <td>34.0</td>\n",
       "      <td>1995</td>\n",
       "      <td>12</td>\n",
       "      <td>22</td>\n",
       "      <td>0.060</td>\n",
       "      <td>0.673</td>\n",
       "      <td>0.267</td>\n",
       "      <td>0.8860</td>\n",
       "      <td>270.0</td>\n",
       "      <td>...</td>\n",
       "      <td>0</td>\n",
       "      <td>1</td>\n",
       "      <td>0</td>\n",
       "      <td>0</td>\n",
       "      <td>0</td>\n",
       "      <td>0</td>\n",
       "      <td>0</td>\n",
       "      <td>0</td>\n",
       "      <td>31357</td>\n",
       "      <td>3.859495</td>\n",
       "    </tr>\n",
       "    <tr>\n",
       "      <td>4</td>\n",
       "      <td>5.7</td>\n",
       "      <td>173.0</td>\n",
       "      <td>1995</td>\n",
       "      <td>2</td>\n",
       "      <td>10</td>\n",
       "      <td>0.000</td>\n",
       "      <td>0.944</td>\n",
       "      <td>0.056</td>\n",
       "      <td>0.5023</td>\n",
       "      <td>318.0</td>\n",
       "      <td>...</td>\n",
       "      <td>0</td>\n",
       "      <td>1</td>\n",
       "      <td>0</td>\n",
       "      <td>0</td>\n",
       "      <td>0</td>\n",
       "      <td>0</td>\n",
       "      <td>0</td>\n",
       "      <td>0</td>\n",
       "      <td>11862</td>\n",
       "      <td>8.387519</td>\n",
       "    </tr>\n",
       "  </tbody>\n",
       "</table>\n",
       "<p>5 rows × 218 columns</p>\n",
       "</div>"
      ],
      "text/plain": [
       "   vote_average  vote_count  release_year  release_month  release_day  \\\n",
       "0           7.7      5415.0          1995             10           30   \n",
       "1           6.9      2413.0          1995             12           15   \n",
       "2           6.5        92.0          1995             12           22   \n",
       "3           6.1        34.0          1995             12           22   \n",
       "4           5.7       173.0          1995              2           10   \n",
       "\n",
       "   overview_negative_sentiment_score  overview_neutral_sentiment_score  \\\n",
       "0                              0.048                             0.886   \n",
       "1                              0.161                             0.702   \n",
       "2                              0.168                             0.791   \n",
       "3                              0.060                             0.673   \n",
       "4                              0.000                             0.944   \n",
       "\n",
       "   overview_positive_sentiment_score  overview_compound_sentiment_score  \\\n",
       "0                              0.066                             0.2500   \n",
       "1                              0.137                            -0.4588   \n",
       "2                              0.041                            -0.7645   \n",
       "3                              0.267                             0.8860   \n",
       "4                              0.056                             0.5023   \n",
       "\n",
       "   overview_length  ...  produced_in_france  produced_in_usa  \\\n",
       "0            303.0  ...                   0                1   \n",
       "1            395.0  ...                   0                1   \n",
       "2            327.0  ...                   0                1   \n",
       "3            270.0  ...                   0                1   \n",
       "4            318.0  ...                   0                1   \n",
       "\n",
       "   produced_in_japan  produced_in_sweden  produced_in_italy  \\\n",
       "0                  0                   0                  0   \n",
       "1                  0                   0                  0   \n",
       "2                  0                   0                  0   \n",
       "3                  0                   0                  0   \n",
       "4                  0                   0                  0   \n",
       "\n",
       "   produced_in_germany  video  title_change     id  popularity  \n",
       "0                    0      0             0    862   21.946943  \n",
       "1                    0      0             0   8844   17.015539  \n",
       "2                    0      0             0  15602   11.712900  \n",
       "3                    0      0             0  31357    3.859495  \n",
       "4                    0      0             0  11862    8.387519  \n",
       "\n",
       "[5 rows x 218 columns]"
      ]
     },
     "execution_count": 17,
     "metadata": {},
     "output_type": "execute_result"
    }
   ],
   "source": [
    "print(df_with_feature_engineering.shape)\n",
    "df_with_feature_engineering.head()"
   ]
  },
  {
   "cell_type": "markdown",
   "metadata": {},
   "source": [
    "Creation of the popularity class integers and allow four popularity classes resulting in a ranking of one to four."
   ]
  },
  {
   "cell_type": "code",
   "execution_count": 36,
   "metadata": {},
   "outputs": [
    {
     "name": "stdout",
     "output_type": "stream",
     "text": [
      "[20610, 7773, 3492, 2034, 1653, 1566, 1438, 1259, 993, 856, 695, 609, 442, 305, 253, 144, 111, 71, 62, 55, 36, 24, 19, 16, 15, 11, 10, 10, 10, 10, 7, 7, 7, 7, 7, 6, 4, 3, 3, 3, 3, 2, 2, 2, 2, 2, 2, 1, 1, 1, 1, 1, 1, 1, 1, 1, 1, 1, 1, 1, 1, 1, 1, 1, 1, 1, 1, 1, 1, 1, 1, 1, 1, 1, 1, 1, 1, 1, 1, 1, 1, 1]\n"
     ]
    },
    {
     "data": {
      "text/plain": [
       "{0: 20610,\n",
       " 1: 7773,\n",
       " 2: 3492,\n",
       " 3: 2034,\n",
       " 4: 1653,\n",
       " 5: 1566,\n",
       " 6: 1438,\n",
       " 7: 1259,\n",
       " 8: 993,\n",
       " 9: 856,\n",
       " 10: 695,\n",
       " 11: 609,\n",
       " 12: 442,\n",
       " 13: 305,\n",
       " 14: 253,\n",
       " 15: 144,\n",
       " 16: 111,\n",
       " 17: 71,\n",
       " 18: 62,\n",
       " 19: 55,\n",
       " 20: 36,\n",
       " 21: 24,\n",
       " 23: 19,\n",
       " 24: 16,\n",
       " 22: 15,\n",
       " 26: 11,\n",
       " 29: 10,\n",
       " 36: 10,\n",
       " 25: 10,\n",
       " 31: 10,\n",
       " 28: 7,\n",
       " 34: 7,\n",
       " 30: 7,\n",
       " 33: 7,\n",
       " 27: 7,\n",
       " 41: 6,\n",
       " 32: 4,\n",
       " 35: 3,\n",
       " 42: 3,\n",
       " 39: 3,\n",
       " 37: 3,\n",
       " 38: 2,\n",
       " 88: 2,\n",
       " 185: 2,\n",
       " 48: 2,\n",
       " 47: 2,\n",
       " 50: 2,\n",
       " 228: 1,\n",
       " 68: 1,\n",
       " 60: 1,\n",
       " 547: 1,\n",
       " 133: 1,\n",
       " 67: 1,\n",
       " 187: 1,\n",
       " 96: 1,\n",
       " 64: 1,\n",
       " 294: 1,\n",
       " 123: 1,\n",
       " 75: 1,\n",
       " 59: 1,\n",
       " 49: 1,\n",
       " 183: 1,\n",
       " 54: 1,\n",
       " 213: 1,\n",
       " 53: 1,\n",
       " 52: 1,\n",
       " 147: 1,\n",
       " 51: 1,\n",
       " 146: 1,\n",
       " 145: 1,\n",
       " 78: 1,\n",
       " 40: 1,\n",
       " 63: 1,\n",
       " 45: 1,\n",
       " 89: 1,\n",
       " 140: 1,\n",
       " 76: 1,\n",
       " 44: 1,\n",
       " 43: 1,\n",
       " 154: 1,\n",
       " 72: 1,\n",
       " 287: 1}"
      ]
     },
     "execution_count": 36,
     "metadata": {},
     "output_type": "execute_result"
    }
   ],
   "source": [
    "df_no_feature_engineering['popularity_class']=df_no_feature_engineering['popularity'].astype(int)\n",
    "df_with_feature_engineering['popularity_class']=df_with_feature_engineering['popularity'].astype(int)\n",
    "print(list(df_no_feature_engineering['popularity_class'].value_counts()))\n",
    "dict(df_no_feature_engineering['popularity_class'].value_counts())"
   ]
  },
  {
   "cell_type": "markdown",
   "metadata": {},
   "source": [
    "Creation of the function that will create the popularity class."
   ]
  },
  {
   "cell_type": "code",
   "execution_count": 44,
   "metadata": {},
   "outputs": [],
   "source": [
    "def popularity_class_label_func (integer):\n",
    "    if integer==0:\n",
    "        i=1\n",
    "    elif integer in range (1,6,1):\n",
    "        i=2\n",
    "    elif integer in range (6,11,1):\n",
    "        i=3\n",
    "    else: i=4\n",
    "    return i"
   ]
  },
  {
   "cell_type": "markdown",
   "metadata": {},
   "source": [
    "Apply the function to create a new y for classification modeling."
   ]
  },
  {
   "cell_type": "code",
   "execution_count": 45,
   "metadata": {},
   "outputs": [
    {
     "data": {
      "text/html": [
       "<div>\n",
       "<style scoped>\n",
       "    .dataframe tbody tr th:only-of-type {\n",
       "        vertical-align: middle;\n",
       "    }\n",
       "\n",
       "    .dataframe tbody tr th {\n",
       "        vertical-align: top;\n",
       "    }\n",
       "\n",
       "    .dataframe thead th {\n",
       "        text-align: right;\n",
       "    }\n",
       "</style>\n",
       "<table border=\"1\" class=\"dataframe\">\n",
       "  <thead>\n",
       "    <tr style=\"text-align: right;\">\n",
       "      <th></th>\n",
       "      <th>popularity_class</th>\n",
       "      <th>popularity_class_label</th>\n",
       "    </tr>\n",
       "  </thead>\n",
       "  <tbody>\n",
       "    <tr>\n",
       "      <td>3352</td>\n",
       "      <td>3</td>\n",
       "      <td>2</td>\n",
       "    </tr>\n",
       "    <tr>\n",
       "      <td>34327</td>\n",
       "      <td>1</td>\n",
       "      <td>2</td>\n",
       "    </tr>\n",
       "    <tr>\n",
       "      <td>24806</td>\n",
       "      <td>3</td>\n",
       "      <td>2</td>\n",
       "    </tr>\n",
       "    <tr>\n",
       "      <td>1321</td>\n",
       "      <td>5</td>\n",
       "      <td>2</td>\n",
       "    </tr>\n",
       "    <tr>\n",
       "      <td>42436</td>\n",
       "      <td>1</td>\n",
       "      <td>2</td>\n",
       "    </tr>\n",
       "    <tr>\n",
       "      <td>10333</td>\n",
       "      <td>4</td>\n",
       "      <td>2</td>\n",
       "    </tr>\n",
       "    <tr>\n",
       "      <td>42684</td>\n",
       "      <td>0</td>\n",
       "      <td>1</td>\n",
       "    </tr>\n",
       "    <tr>\n",
       "      <td>38097</td>\n",
       "      <td>0</td>\n",
       "      <td>1</td>\n",
       "    </tr>\n",
       "    <tr>\n",
       "      <td>42171</td>\n",
       "      <td>5</td>\n",
       "      <td>2</td>\n",
       "    </tr>\n",
       "    <tr>\n",
       "      <td>42696</td>\n",
       "      <td>1</td>\n",
       "      <td>2</td>\n",
       "    </tr>\n",
       "    <tr>\n",
       "      <td>4657</td>\n",
       "      <td>10</td>\n",
       "      <td>3</td>\n",
       "    </tr>\n",
       "    <tr>\n",
       "      <td>43577</td>\n",
       "      <td>0</td>\n",
       "      <td>1</td>\n",
       "    </tr>\n",
       "    <tr>\n",
       "      <td>2813</td>\n",
       "      <td>19</td>\n",
       "      <td>4</td>\n",
       "    </tr>\n",
       "    <tr>\n",
       "      <td>5853</td>\n",
       "      <td>0</td>\n",
       "      <td>1</td>\n",
       "    </tr>\n",
       "    <tr>\n",
       "      <td>3746</td>\n",
       "      <td>0</td>\n",
       "      <td>1</td>\n",
       "    </tr>\n",
       "    <tr>\n",
       "      <td>9540</td>\n",
       "      <td>0</td>\n",
       "      <td>1</td>\n",
       "    </tr>\n",
       "    <tr>\n",
       "      <td>1292</td>\n",
       "      <td>2</td>\n",
       "      <td>2</td>\n",
       "    </tr>\n",
       "    <tr>\n",
       "      <td>17527</td>\n",
       "      <td>2</td>\n",
       "      <td>2</td>\n",
       "    </tr>\n",
       "    <tr>\n",
       "      <td>18939</td>\n",
       "      <td>1</td>\n",
       "      <td>2</td>\n",
       "    </tr>\n",
       "    <tr>\n",
       "      <td>4244</td>\n",
       "      <td>1</td>\n",
       "      <td>2</td>\n",
       "    </tr>\n",
       "  </tbody>\n",
       "</table>\n",
       "</div>"
      ],
      "text/plain": [
       "       popularity_class  popularity_class_label\n",
       "3352                  3                       2\n",
       "34327                 1                       2\n",
       "24806                 3                       2\n",
       "1321                  5                       2\n",
       "42436                 1                       2\n",
       "10333                 4                       2\n",
       "42684                 0                       1\n",
       "38097                 0                       1\n",
       "42171                 5                       2\n",
       "42696                 1                       2\n",
       "4657                 10                       3\n",
       "43577                 0                       1\n",
       "2813                 19                       4\n",
       "5853                  0                       1\n",
       "3746                  0                       1\n",
       "9540                  0                       1\n",
       "1292                  2                       2\n",
       "17527                 2                       2\n",
       "18939                 1                       2\n",
       "4244                  1                       2"
      ]
     },
     "execution_count": 45,
     "metadata": {},
     "output_type": "execute_result"
    }
   ],
   "source": [
    "df_no_feature_engineering['popularity_class_label']=df_no_feature_engineering['popularity_class'].apply(popularity_class_label_func)\n",
    "df_no_feature_engineering[['popularity_class','popularity_class_label']].sample(20)"
   ]
  },
  {
   "cell_type": "code",
   "execution_count": 48,
   "metadata": {},
   "outputs": [
    {
     "data": {
      "text/html": [
       "<div>\n",
       "<style scoped>\n",
       "    .dataframe tbody tr th:only-of-type {\n",
       "        vertical-align: middle;\n",
       "    }\n",
       "\n",
       "    .dataframe tbody tr th {\n",
       "        vertical-align: top;\n",
       "    }\n",
       "\n",
       "    .dataframe thead th {\n",
       "        text-align: right;\n",
       "    }\n",
       "</style>\n",
       "<table border=\"1\" class=\"dataframe\">\n",
       "  <thead>\n",
       "    <tr style=\"text-align: right;\">\n",
       "      <th></th>\n",
       "      <th>popularity_class</th>\n",
       "      <th>popularity_class_label</th>\n",
       "    </tr>\n",
       "  </thead>\n",
       "  <tbody>\n",
       "    <tr>\n",
       "      <td>20945</td>\n",
       "      <td>0</td>\n",
       "      <td>1</td>\n",
       "    </tr>\n",
       "    <tr>\n",
       "      <td>7869</td>\n",
       "      <td>5</td>\n",
       "      <td>2</td>\n",
       "    </tr>\n",
       "    <tr>\n",
       "      <td>6146</td>\n",
       "      <td>6</td>\n",
       "      <td>3</td>\n",
       "    </tr>\n",
       "    <tr>\n",
       "      <td>14377</td>\n",
       "      <td>1</td>\n",
       "      <td>2</td>\n",
       "    </tr>\n",
       "    <tr>\n",
       "      <td>29391</td>\n",
       "      <td>0</td>\n",
       "      <td>1</td>\n",
       "    </tr>\n",
       "    <tr>\n",
       "      <td>35612</td>\n",
       "      <td>2</td>\n",
       "      <td>2</td>\n",
       "    </tr>\n",
       "    <tr>\n",
       "      <td>16486</td>\n",
       "      <td>0</td>\n",
       "      <td>1</td>\n",
       "    </tr>\n",
       "    <tr>\n",
       "      <td>16217</td>\n",
       "      <td>1</td>\n",
       "      <td>2</td>\n",
       "    </tr>\n",
       "    <tr>\n",
       "      <td>17340</td>\n",
       "      <td>0</td>\n",
       "      <td>1</td>\n",
       "    </tr>\n",
       "    <tr>\n",
       "      <td>36095</td>\n",
       "      <td>0</td>\n",
       "      <td>1</td>\n",
       "    </tr>\n",
       "    <tr>\n",
       "      <td>6139</td>\n",
       "      <td>5</td>\n",
       "      <td>2</td>\n",
       "    </tr>\n",
       "    <tr>\n",
       "      <td>12744</td>\n",
       "      <td>3</td>\n",
       "      <td>2</td>\n",
       "    </tr>\n",
       "    <tr>\n",
       "      <td>16071</td>\n",
       "      <td>0</td>\n",
       "      <td>1</td>\n",
       "    </tr>\n",
       "    <tr>\n",
       "      <td>14320</td>\n",
       "      <td>0</td>\n",
       "      <td>1</td>\n",
       "    </tr>\n",
       "    <tr>\n",
       "      <td>26406</td>\n",
       "      <td>0</td>\n",
       "      <td>1</td>\n",
       "    </tr>\n",
       "    <tr>\n",
       "      <td>11019</td>\n",
       "      <td>6</td>\n",
       "      <td>3</td>\n",
       "    </tr>\n",
       "    <tr>\n",
       "      <td>7875</td>\n",
       "      <td>7</td>\n",
       "      <td>3</td>\n",
       "    </tr>\n",
       "    <tr>\n",
       "      <td>43686</td>\n",
       "      <td>0</td>\n",
       "      <td>1</td>\n",
       "    </tr>\n",
       "    <tr>\n",
       "      <td>7950</td>\n",
       "      <td>0</td>\n",
       "      <td>1</td>\n",
       "    </tr>\n",
       "    <tr>\n",
       "      <td>767</td>\n",
       "      <td>0</td>\n",
       "      <td>1</td>\n",
       "    </tr>\n",
       "  </tbody>\n",
       "</table>\n",
       "</div>"
      ],
      "text/plain": [
       "       popularity_class  popularity_class_label\n",
       "20945                 0                       1\n",
       "7869                  5                       2\n",
       "6146                  6                       3\n",
       "14377                 1                       2\n",
       "29391                 0                       1\n",
       "35612                 2                       2\n",
       "16486                 0                       1\n",
       "16217                 1                       2\n",
       "17340                 0                       1\n",
       "36095                 0                       1\n",
       "6139                  5                       2\n",
       "12744                 3                       2\n",
       "16071                 0                       1\n",
       "14320                 0                       1\n",
       "26406                 0                       1\n",
       "11019                 6                       3\n",
       "7875                  7                       3\n",
       "43686                 0                       1\n",
       "7950                  0                       1\n",
       "767                   0                       1"
      ]
     },
     "execution_count": 48,
     "metadata": {},
     "output_type": "execute_result"
    }
   ],
   "source": [
    "df_with_feature_engineering['popularity_class_label']=df_with_feature_engineering['popularity_class'].apply(popularity_class_label_func)\n",
    "df_with_feature_engineering[['popularity_class','popularity_class_label']].sample(20)"
   ]
  },
  {
   "cell_type": "markdown",
   "metadata": {},
   "source": [
    "Create the two X and y variables that will have the dataframes with or without intial feature generation."
   ]
  },
  {
   "cell_type": "code",
   "execution_count": 51,
   "metadata": {},
   "outputs": [],
   "source": [
    "X_no_features=df_no_feature_engineering.drop(columns=['id','popularity','popularity_class','popularity_class_label'])\n",
    "y_no_features=df_no_feature_engineering['popularity_class_label']\n",
    "X_features=df_with_feature_engineering.drop(columns=['id','popularity','popularity_class','popularity_class_label'])\n",
    "y_features=df_with_feature_engineering['popularity_class_label']"
   ]
  },
  {
   "cell_type": "markdown",
   "metadata": {},
   "source": [
    "Creating a train test split for the X and y to be modeled."
   ]
  },
  {
   "cell_type": "code",
   "execution_count": 54,
   "metadata": {},
   "outputs": [],
   "source": [
    "X_train_no_features, X_test_no_features, y_train_no_features,y_test_no_features=train_test_split(X_no_features,y_no_features,stratify=y_no_features,random_state=200)\n",
    "\n",
    "X_train_features, X_test_features, y_train_features,y_test_features=train_test_split(X_features,y_features,stratify=y_features,random_state=200)"
   ]
  },
  {
   "cell_type": "markdown",
   "metadata": {},
   "source": [
    "Scaling the data to have more effective modeling."
   ]
  },
  {
   "cell_type": "code",
   "execution_count": 56,
   "metadata": {},
   "outputs": [
    {
     "name": "stderr",
     "output_type": "stream",
     "text": [
      "/Users/shanelljones/anaconda3/lib/python3.7/site-packages/sklearn/preprocessing/data.py:645: DataConversionWarning: Data with input dtype int64, float64 were all converted to float64 by StandardScaler.\n",
      "  return self.partial_fit(X, y)\n",
      "/Users/shanelljones/anaconda3/lib/python3.7/site-packages/sklearn/base.py:464: DataConversionWarning: Data with input dtype int64, float64 were all converted to float64 by StandardScaler.\n",
      "  return self.fit(X, **fit_params).transform(X)\n",
      "/Users/shanelljones/anaconda3/lib/python3.7/site-packages/ipykernel_launcher.py:2: DataConversionWarning: Data with input dtype int64, float64 were all converted to float64 by StandardScaler.\n",
      "  \n"
     ]
    }
   ],
   "source": [
    "ss=StandardScaler()\n",
    "X_train_no_features_sc=ss.fit_transform(X_train_no_features)\n",
    "X_test_no_features_sc=ss.transform(X_test_no_features)\n",
    "X_train_features_sc=ss.fit_transform(X_train_features)\n",
    "X_test_features_sc=ss.transform(X_test_features)"
   ]
  },
  {
   "cell_type": "markdown",
   "metadata": {},
   "source": [
    "Logistic Regression were fit and show a 75% accuracy rating with no improvement with feature engineering. See below for details."
   ]
  },
  {
   "cell_type": "code",
   "execution_count": 79,
   "metadata": {},
   "outputs": [
    {
     "name": "stderr",
     "output_type": "stream",
     "text": [
      "/Users/shanelljones/anaconda3/lib/python3.7/site-packages/sklearn/model_selection/_split.py:2053: FutureWarning: You should specify a value for 'cv' instead of relying on the default value. The default value will change from 3 to 5 in version 0.22.\n",
      "  warnings.warn(CV_WARNING, FutureWarning)\n",
      "/Users/shanelljones/anaconda3/lib/python3.7/site-packages/sklearn/linear_model/logistic.py:758: ConvergenceWarning: lbfgs failed to converge. Increase the number of iterations.\n",
      "  \"of iterations.\", ConvergenceWarning)\n",
      "/Users/shanelljones/anaconda3/lib/python3.7/site-packages/sklearn/linear_model/logistic.py:758: ConvergenceWarning: lbfgs failed to converge. Increase the number of iterations.\n",
      "  \"of iterations.\", ConvergenceWarning)\n",
      "/Users/shanelljones/anaconda3/lib/python3.7/site-packages/sklearn/linear_model/logistic.py:758: ConvergenceWarning: lbfgs failed to converge. Increase the number of iterations.\n",
      "  \"of iterations.\", ConvergenceWarning)\n",
      "/Users/shanelljones/anaconda3/lib/python3.7/site-packages/sklearn/linear_model/logistic.py:758: ConvergenceWarning: lbfgs failed to converge. Increase the number of iterations.\n",
      "  \"of iterations.\", ConvergenceWarning)\n"
     ]
    },
    {
     "data": {
      "text/plain": [
       "(0.7578623858685922, 0.7576083064804869)"
      ]
     },
     "execution_count": 79,
     "metadata": {},
     "output_type": "execute_result"
    }
   ],
   "source": [
    "log_muli_class=LogisticRegressionCV(multi_class='multinomial')\n",
    "log_muli_class.fit(X_train_no_features_sc,y_train_no_features)\n",
    "(log_muli_class.score(X_train_no_features_sc,y_train_no_features),log_muli_class.score(X_test_no_features_sc,y_test_no_features))"
   ]
  },
  {
   "cell_type": "code",
   "execution_count": 58,
   "metadata": {},
   "outputs": [
    {
     "name": "stderr",
     "output_type": "stream",
     "text": [
      "/Users/shanelljones/anaconda3/lib/python3.7/site-packages/sklearn/model_selection/_split.py:2053: FutureWarning: You should specify a value for 'cv' instead of relying on the default value. The default value will change from 3 to 5 in version 0.22.\n",
      "  warnings.warn(CV_WARNING, FutureWarning)\n",
      "/Users/shanelljones/anaconda3/lib/python3.7/site-packages/sklearn/linear_model/logistic.py:758: ConvergenceWarning: lbfgs failed to converge. Increase the number of iterations.\n",
      "  \"of iterations.\", ConvergenceWarning)\n",
      "/Users/shanelljones/anaconda3/lib/python3.7/site-packages/sklearn/linear_model/logistic.py:758: ConvergenceWarning: lbfgs failed to converge. Increase the number of iterations.\n",
      "  \"of iterations.\", ConvergenceWarning)\n",
      "/Users/shanelljones/anaconda3/lib/python3.7/site-packages/sklearn/linear_model/logistic.py:758: ConvergenceWarning: lbfgs failed to converge. Increase the number of iterations.\n",
      "  \"of iterations.\", ConvergenceWarning)\n",
      "/Users/shanelljones/anaconda3/lib/python3.7/site-packages/sklearn/linear_model/logistic.py:758: ConvergenceWarning: lbfgs failed to converge. Increase the number of iterations.\n",
      "  \"of iterations.\", ConvergenceWarning)\n"
     ]
    },
    {
     "data": {
      "text/plain": [
       "(0.7641284239422331, 0.7596670247046187)"
      ]
     },
     "execution_count": 58,
     "metadata": {},
     "output_type": "execute_result"
    }
   ],
   "source": [
    "log_muli_class.fit(X_train_features_sc,y_train_features)\n",
    "(log_muli_class.score(X_train_features_sc,y_train_features),log_muli_class.score(X_test_features_sc,y_test_features))"
   ]
  },
  {
   "cell_type": "markdown",
   "metadata": {},
   "source": [
    "Decision Trees were fit and while they trained better that tested worse than logistic regression."
   ]
  },
  {
   "cell_type": "code",
   "execution_count": 59,
   "metadata": {},
   "outputs": [
    {
     "data": {
      "text/plain": [
       "(0.9999701617234589, 0.6867167919799498)"
      ]
     },
     "execution_count": 59,
     "metadata": {},
     "output_type": "execute_result"
    }
   ],
   "source": [
    "dt_multi_class=DecisionTreeClassifier()\n",
    "dt_multi_class.fit(X_train_no_features_sc,y_train_no_features)\n",
    "(dt_multi_class.score(X_train_no_features_sc,y_train_no_features),dt_multi_class.score(X_test_no_features_sc,y_test_no_features))\n"
   ]
  },
  {
   "cell_type": "code",
   "execution_count": 60,
   "metadata": {},
   "outputs": [
    {
     "data": {
      "text/plain": [
       "(0.9999701617234589, 0.6860902255639098)"
      ]
     },
     "execution_count": 60,
     "metadata": {},
     "output_type": "execute_result"
    }
   ],
   "source": [
    "dt_multi_class.fit(X_train_features_sc,y_train_features)\n",
    "(dt_multi_class.score(X_train_features_sc,y_train_features),dt_multi_class.score(X_test_features_sc,y_test_features))"
   ]
  },
  {
   "cell_type": "markdown",
   "metadata": {},
   "source": [
    "KNN models were fit and did not perfrom well in training and testing."
   ]
  },
  {
   "cell_type": "code",
   "execution_count": 61,
   "metadata": {},
   "outputs": [
    {
     "data": {
      "text/plain": [
       "(0.6922181774780689, 0.5681167203723595)"
      ]
     },
     "execution_count": 61,
     "metadata": {},
     "output_type": "execute_result"
    }
   ],
   "source": [
    "knn_multi_class=KNeighborsClassifier()\n",
    "knn_multi_class.fit(X_train_no_features_sc,y_train_no_features)\n",
    "(knn_multi_class.score(X_train_no_features_sc,y_train_no_features),knn_multi_class.score(X_test_no_features_sc,y_test_no_features))"
   ]
  },
  {
   "cell_type": "code",
   "execution_count": 62,
   "metadata": {},
   "outputs": [
    {
     "data": {
      "text/plain": [
       "(0.6942173420063257, 0.5724131757966344)"
      ]
     },
     "execution_count": 62,
     "metadata": {},
     "output_type": "execute_result"
    }
   ],
   "source": [
    "knn_multi_class.fit(X_train_features_sc,y_train_features)\n",
    "(knn_multi_class.score(X_train_features_sc,y_train_features),knn_multi_class.score(X_test_features_sc,y_test_features))\n"
   ]
  },
  {
   "cell_type": "markdown",
   "metadata": {},
   "source": [
    "Gaussian Naive Bayes models were fit and did not perfrom well in training and testing."
   ]
  },
  {
   "cell_type": "code",
   "execution_count": 67,
   "metadata": {},
   "outputs": [
    {
     "data": {
      "text/plain": [
       "(0.4669690278689503, 0.4630325814536341)"
      ]
     },
     "execution_count": 67,
     "metadata": {},
     "output_type": "execute_result"
    }
   ],
   "source": [
    "gaussiannb_multi_class=GaussianNB()\n",
    "gaussiannb_multi_class.fit(X_train_no_features_sc,y_train_no_features)\n",
    "(gaussiannb_multi_class.score(X_train_no_features_sc,y_train_no_features),gaussiannb_multi_class.score(X_test_no_features_sc,y_test_no_features))"
   ]
  },
  {
   "cell_type": "code",
   "execution_count": 68,
   "metadata": {},
   "outputs": [
    {
     "data": {
      "text/plain": [
       "(0.5289431282449125, 0.5211242391693519)"
      ]
     },
     "execution_count": 68,
     "metadata": {},
     "output_type": "execute_result"
    }
   ],
   "source": [
    "gaussiannb_multi_class.fit(X_train_features_sc,y_train_features)\n",
    "(gaussiannb_multi_class.score(X_train_features_sc,y_train_no_features),gaussiannb_multi_class.score(X_test_features_sc,y_test_no_features))"
   ]
  },
  {
   "cell_type": "markdown",
   "metadata": {},
   "source": [
    "Ridge Logistic Classifiers models were fit and did not perfrom well in training and testing."
   ]
  },
  {
   "cell_type": "code",
   "execution_count": 70,
   "metadata": {},
   "outputs": [
    {
     "data": {
      "text/plain": [
       "(0.6318851823118696, 0.630594343000358)"
      ]
     },
     "execution_count": 70,
     "metadata": {},
     "output_type": "execute_result"
    }
   ],
   "source": [
    "ridge_multi_class=RidgeClassifierCV()\n",
    "ridge_multi_class.fit(X_train_no_features_sc,y_train_no_features)\n",
    "(ridge_multi_class.score(X_train_no_features_sc,y_train_no_features),ridge_multi_class.score(X_test_no_features_sc,y_test_no_features))\n"
   ]
  },
  {
   "cell_type": "code",
   "execution_count": 71,
   "metadata": {},
   "outputs": [
    {
     "data": {
      "text/plain": [
       "(0.6534880945276601, 0.6494808449695668)"
      ]
     },
     "execution_count": 71,
     "metadata": {},
     "output_type": "execute_result"
    }
   ],
   "source": [
    "ridge_multi_class=RidgeClassifierCV()\n",
    "ridge_multi_class.fit(X_train_features_sc,y_train_features)\n",
    "(ridge_multi_class.score(X_train_features_sc,y_train_features),ridge_multi_class.score(X_test_features_sc,y_test_features))\n"
   ]
  },
  {
   "cell_type": "markdown",
   "metadata": {},
   "source": [
    "Random Forest models were fit and showed overfitting, but very similar test scores to Logistic Regression meaning there is not much improvement available in the models."
   ]
  },
  {
   "cell_type": "code",
   "execution_count": 72,
   "metadata": {},
   "outputs": [
    {
     "name": "stderr",
     "output_type": "stream",
     "text": [
      "/Users/shanelljones/anaconda3/lib/python3.7/site-packages/sklearn/ensemble/forest.py:246: FutureWarning: The default value of n_estimators will change from 10 in version 0.20 to 100 in 0.22.\n",
      "  \"10 in version 0.20 to 100 in 0.22.\", FutureWarning)\n"
     ]
    },
    {
     "data": {
      "text/plain": [
       "(0.9867518052157307, 0.7428392409595417)"
      ]
     },
     "execution_count": 72,
     "metadata": {},
     "output_type": "execute_result"
    }
   ],
   "source": [
    "random_forrest_mulit_class=RandomForestClassifier()\n",
    "random_forrest_mulit_class.fit(X_train_no_features_sc,y_train_no_features)\n",
    "(random_forrest_mulit_class.score(X_train_no_features_sc,y_train_no_features),random_forrest_mulit_class.score(X_test_no_features_sc,y_test_no_features))\n"
   ]
  },
  {
   "cell_type": "code",
   "execution_count": 73,
   "metadata": {},
   "outputs": [
    {
     "name": "stderr",
     "output_type": "stream",
     "text": [
      "/Users/shanelljones/anaconda3/lib/python3.7/site-packages/sklearn/ensemble/forest.py:246: FutureWarning: The default value of n_estimators will change from 10 in version 0.20 to 100 in 0.22.\n",
      "  \"10 in version 0.20 to 100 in 0.22.\", FutureWarning)\n"
     ]
    },
    {
     "data": {
      "text/plain": [
       "(0.9854687593244614, 0.7603831006086645)"
      ]
     },
     "execution_count": 73,
     "metadata": {},
     "output_type": "execute_result"
    }
   ],
   "source": [
    "random_forrest_mulit_class=RandomForestClassifier()\n",
    "random_forrest_mulit_class.fit(X_train_features_sc,y_train_features)\n",
    "(random_forrest_mulit_class.score(X_train_features_sc,y_train_features),random_forrest_mulit_class.score(X_test_features_sc,y_test_features))"
   ]
  },
  {
   "cell_type": "markdown",
   "metadata": {},
   "source": [
    "A confusion matrix was fit and showed that while the model is good at classifying popular movies, it struggles with less popular films. This indicates that there are many unpopular movies it is harder for the model to differentiate."
   ]
  },
  {
   "cell_type": "code",
   "execution_count": 102,
   "metadata": {},
   "outputs": [
    {
     "data": {
      "text/plain": [
       "array([[4762,  387,    1,    3],\n",
       "       [1075, 2925,  127,    3],\n",
       "       [  14,  668,  556,   72],\n",
       "       [   0,  121,  237,  221]])"
      ]
     },
     "execution_count": 102,
     "metadata": {},
     "output_type": "execute_result"
    }
   ],
   "source": [
    "cm=confusion_matrix(y_test_no_features,log_muli_class.predict(X_test_no_features_sc))\n",
    "cm"
   ]
  },
  {
   "cell_type": "code",
   "execution_count": 123,
   "metadata": {},
   "outputs": [
    {
     "data": {
      "image/png": "[encoded data removed]",
      "text/plain": [
       "<Figure size 720x720 with 2 Axes>"
      ]
     },
     "metadata": {},
     "output_type": "display_data"
    }
   ],
   "source": [
    "plt.figure(figsize=(10,10))\n",
    "sns.set(font_scale=2)\n",
    "sns.heatmap(cm,annot=True,annot_kws={\"size\": 16})\n",
    "plt.title('Confusion Matrix')\n",
    "plt.xlabel('Predicted')\n",
    "plt.ylabel('True');"
   ]
  },
  {
   "cell_type": "markdown",
   "metadata": {},
   "source": [
    "Below show the classification metrics and how well each class is performing."
   ]
  },
  {
   "cell_type": "code",
   "execution_count": 97,
   "metadata": {},
   "outputs": [
    {
     "name": "stdout",
     "output_type": "stream",
     "text": [
      "              precision    recall  f1-score   support\n",
      "\n",
      "    one_star       0.81      0.92      0.87      5153\n",
      "      2_star       0.71      0.71      0.71      4130\n",
      "      3_star       0.60      0.42      0.50      1310\n",
      "      4_star       0.74      0.38      0.50       579\n",
      "\n",
      "   micro avg       0.76      0.76      0.76     11172\n",
      "   macro avg       0.72      0.61      0.64     11172\n",
      "weighted avg       0.75      0.76      0.75     11172\n",
      "\n"
     ]
    }
   ],
   "source": [
    "print(classification_report(y_test_no_features, log_muli_class.predict(X_test_no_features_sc), target_names=['one_star','2_star','3_star','4_star']))"
   ]
  },
  {
   "cell_type": "code",
   "execution_count": 125,
   "metadata": {},
   "outputs": [
    {
     "data": {
      "image/png": "[encoded data removed]",
      "text/plain": [
       "<Figure size 432x288 with 1 Axes>"
      ]
     },
     "metadata": {},
     "output_type": "display_data"
    }
   ],
   "source": [
    "sns.lineplot(x=y_test_no_features,y=log_muli_class.predict(X_test_no_features_sc));"
   ]
  },
  {
   "cell_type": "markdown",
   "metadata": {},
   "source": [
    "The below dataframe shows the coefficients for the logisitic classfication."
   ]
  },
  {
   "cell_type": "code",
   "execution_count": 158,
   "metadata": {},
   "outputs": [
    {
     "data": {
      "text/html": [
       "<div>\n",
       "<style scoped>\n",
       "    .dataframe tbody tr th:only-of-type {\n",
       "        vertical-align: middle;\n",
       "    }\n",
       "\n",
       "    .dataframe tbody tr th {\n",
       "        vertical-align: top;\n",
       "    }\n",
       "\n",
       "    .dataframe thead th {\n",
       "        text-align: right;\n",
       "    }\n",
       "</style>\n",
       "<table border=\"1\" class=\"dataframe\">\n",
       "  <thead>\n",
       "    <tr style=\"text-align: right;\">\n",
       "      <th></th>\n",
       "      <th>1</th>\n",
       "      <th>2</th>\n",
       "      <th>3</th>\n",
       "      <th>4</th>\n",
       "    </tr>\n",
       "  </thead>\n",
       "  <tbody>\n",
       "    <tr>\n",
       "      <td>is_foreign</td>\n",
       "      <td>1.694913e+00</td>\n",
       "      <td>1.566753</td>\n",
       "      <td>0.831926</td>\n",
       "      <td>4.526548e-01</td>\n",
       "    </tr>\n",
       "    <tr>\n",
       "      <td>number_of_D_list_cast_members_per_movie</td>\n",
       "      <td>1.283587e+00</td>\n",
       "      <td>0.933264</td>\n",
       "      <td>1.101593</td>\n",
       "      <td>7.577906e-01</td>\n",
       "    </tr>\n",
       "    <tr>\n",
       "      <td>original_title_postive_sentiment_score</td>\n",
       "      <td>9.605816e-01</td>\n",
       "      <td>0.998168</td>\n",
       "      <td>1.342050</td>\n",
       "      <td>7.771292e-01</td>\n",
       "    </tr>\n",
       "    <tr>\n",
       "      <td>video</td>\n",
       "      <td>1.103587e+00</td>\n",
       "      <td>1.078716</td>\n",
       "      <td>1.066238</td>\n",
       "      <td>7.878292e-01</td>\n",
       "    </tr>\n",
       "    <tr>\n",
       "      <td>original_title_neutral_sentiment_score</td>\n",
       "      <td>8.021299e-01</td>\n",
       "      <td>0.861886</td>\n",
       "      <td>1.820885</td>\n",
       "      <td>7.943702e-01</td>\n",
       "    </tr>\n",
       "    <tr>\n",
       "      <td>...</td>\n",
       "      <td>...</td>\n",
       "      <td>...</td>\n",
       "      <td>...</td>\n",
       "      <td>...</td>\n",
       "    </tr>\n",
       "    <tr>\n",
       "      <td>vote_average</td>\n",
       "      <td>6.632879e-01</td>\n",
       "      <td>0.863108</td>\n",
       "      <td>1.201948</td>\n",
       "      <td>1.453272e+00</td>\n",
       "    </tr>\n",
       "    <tr>\n",
       "      <td>release_year</td>\n",
       "      <td>5.532521e-01</td>\n",
       "      <td>0.881173</td>\n",
       "      <td>1.367538</td>\n",
       "      <td>1.499949e+00</td>\n",
       "    </tr>\n",
       "    <tr>\n",
       "      <td>has_overview</td>\n",
       "      <td>1.077367e+00</td>\n",
       "      <td>0.583303</td>\n",
       "      <td>1.059591</td>\n",
       "      <td>1.501772e+00</td>\n",
       "    </tr>\n",
       "    <tr>\n",
       "      <td>total_cast_per_movie</td>\n",
       "      <td>5.939920e-01</td>\n",
       "      <td>1.192317</td>\n",
       "      <td>0.805939</td>\n",
       "      <td>1.751965e+00</td>\n",
       "    </tr>\n",
       "    <tr>\n",
       "      <td>vote_count</td>\n",
       "      <td>9.580914e-17</td>\n",
       "      <td>15069.452651</td>\n",
       "      <td>638592.334922</td>\n",
       "      <td>1.084606e+06</td>\n",
       "    </tr>\n",
       "  </tbody>\n",
       "</table>\n",
       "<p>129 rows × 4 columns</p>\n",
       "</div>"
      ],
      "text/plain": [
       "                                                    1             2  \\\n",
       "is_foreign                               1.694913e+00      1.566753   \n",
       "number_of_D_list_cast_members_per_movie  1.283587e+00      0.933264   \n",
       "original_title_postive_sentiment_score   9.605816e-01      0.998168   \n",
       "video                                    1.103587e+00      1.078716   \n",
       "original_title_neutral_sentiment_score   8.021299e-01      0.861886   \n",
       "...                                               ...           ...   \n",
       "vote_average                             6.632879e-01      0.863108   \n",
       "release_year                             5.532521e-01      0.881173   \n",
       "has_overview                             1.077367e+00      0.583303   \n",
       "total_cast_per_movie                     5.939920e-01      1.192317   \n",
       "vote_count                               9.580914e-17  15069.452651   \n",
       "\n",
       "                                                     3             4  \n",
       "is_foreign                                    0.831926  4.526548e-01  \n",
       "number_of_D_list_cast_members_per_movie       1.101593  7.577906e-01  \n",
       "original_title_postive_sentiment_score        1.342050  7.771292e-01  \n",
       "video                                         1.066238  7.878292e-01  \n",
       "original_title_neutral_sentiment_score        1.820885  7.943702e-01  \n",
       "...                                                ...           ...  \n",
       "vote_average                                  1.201948  1.453272e+00  \n",
       "release_year                                  1.367538  1.499949e+00  \n",
       "has_overview                                  1.059591  1.501772e+00  \n",
       "total_cast_per_movie                          0.805939  1.751965e+00  \n",
       "vote_count                               638592.334922  1.084606e+06  \n",
       "\n",
       "[129 rows x 4 columns]"
      ]
     },
     "execution_count": 158,
     "metadata": {},
     "output_type": "execute_result"
    }
   ],
   "source": [
    "class_coefs=pd.DataFrame(np.exp(log_muli_class.coef_),columns=X_no_features.columns,index=[1,2,3,4]).T\n",
    "class_coefs.sort_values(by=4)"
   ]
  },
  {
   "cell_type": "code",
   "execution_count": null,
   "metadata": {},
   "outputs": [],
   "source": []
  }
 ],
 "metadata": {
  "kernelspec": {
   "display_name": "Python 3",
   "language": "python",
   "name": "python3"
  },
  "language_info": {
   "codemirror_mode": {
    "name": "ipython",
    "version": 3
   },
   "file_extension": ".py",
   "mimetype": "text/x-python",
   "name": "python",
   "nbconvert_exporter": "python",
   "pygments_lexer": "ipython3",
   "version": "3.7.3"
  }
 },
 "nbformat": 4,
 "nbformat_minor": 2
}
